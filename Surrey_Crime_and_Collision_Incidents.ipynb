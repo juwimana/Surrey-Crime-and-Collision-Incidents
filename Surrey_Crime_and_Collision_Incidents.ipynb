{
  "nbformat": 4,
  "nbformat_minor": 0,
  "metadata": {
    "colab": {
      "name": "Surrey Crime and Collision Incidents.ipynb",
      "provenance": [],
      "authorship_tag": "ABX9TyNajCDw54OKD3cTblxrO8YM",
      "include_colab_link": true
    },
    "kernelspec": {
      "name": "python3",
      "display_name": "Python 3"
    }
  },
  "cells": [
    {
      "cell_type": "markdown",
      "metadata": {
        "id": "view-in-github",
        "colab_type": "text"
      },
      "source": [
        "<a href=\"https://colab.research.google.com/github/juwimana/Surrey-Crime-and-Collision-Incidents/blob/main/Surrey_Crime_and_Collision_Incidents.ipynb\" target=\"_parent\"><img src=\"https://colab.research.google.com/assets/colab-badge.svg\" alt=\"Open In Colab\"/></a>"
      ]
    },
    {
      "cell_type": "markdown",
      "metadata": {
        "id": "1rgP8UGATKYQ"
      },
      "source": [
        "# **[Surrey](https://https://www.surrey.ca/) Crime and Collision Incidents 2019 Analysis**\n",
        "Today, I will be an analyizing the Crime and Collison Incidents 2019 [Data Set](https://data.surrey.ca/dataset/rcmp-crime/resource/130f817c-0940-4cbe-bac8-90dac92f0670) for Surrey (British Columbia) in search of insights and a better understanding of Python as a tool Data Science "
      ]
    },
    {
      "cell_type": "markdown",
      "metadata": {
        "id": "RY8jLedFqCmH"
      },
      "source": [
        "# Importing Data\n",
        "Below, we will use [Python Pandas](https://pandas.pydata.org/docs/index.html) to import our csv formated data from a Github URL and read it into a Pandas Dataframe using the Pandas [read_csv](https://pandas.pydata.org/docs/reference/api/pandas.read_csv.html?highlight=read_csv#pandas.read_csv) function. "
      ]
    },
    {
      "cell_type": "code",
      "metadata": {
        "id": "eHWJNZS9TMie"
      },
      "source": [
        "#import data analysis packages\n",
        "import pandas as pd\n",
        "import numpy as np\n",
        "\n",
        "#import plotting packages\n",
        "import matplotlib.pyplot as plt\n",
        "import seaborn as sns"
      ],
      "execution_count": 1,
      "outputs": []
    },
    {
      "cell_type": "code",
      "metadata": {
        "id": "Po08d-NJTklx"
      },
      "source": [
        "#import the data from Surrey city database\n",
        "ccc = pd.read_csv('https://raw.githubusercontent.com/juwimana/Surrey-Crime-and-Collision-Incidents/main/Crime%20and%20Collisions%20Incidents%20Report?token=ALEZTGAXPEBJARJUDWQZFYS7QLW26', sep='\\t')"
      ],
      "execution_count": 111,
      "outputs": []
    },
    {
      "cell_type": "markdown",
      "metadata": {
        "id": "uKax6b1-pN5C"
      },
      "source": [
        "# Initial Exploration Data Analysis (EDA)\n",
        "In this section, I will be familiarizing myself with the data set and understand the structure it's currently in along with any insights"
      ]
    },
    {
      "cell_type": "code",
      "metadata": {
        "id": "MUTfZD0iUtaU",
        "outputId": "3fee6f20-7fe0-475d-afc9-730cc195347f",
        "colab": {
          "base_uri": "https://localhost:8080/",
          "height": 202
        }
      },
      "source": [
        "#View first few lines of data set\n",
        "ccc.head()"
      ],
      "execution_count": 112,
      "outputs": [
        {
          "output_type": "execute_result",
          "data": {
            "text/html": [
              "<div>\n",
              "<style scoped>\n",
              "    .dataframe tbody tr th:only-of-type {\n",
              "        vertical-align: middle;\n",
              "    }\n",
              "\n",
              "    .dataframe tbody tr th {\n",
              "        vertical-align: top;\n",
              "    }\n",
              "\n",
              "    .dataframe thead th {\n",
              "        text-align: right;\n",
              "    }\n",
              "</style>\n",
              "<table border=\"1\" class=\"dataframe\">\n",
              "  <thead>\n",
              "    <tr style=\"text-align: right;\">\n",
              "      <th></th>\n",
              "      <th>INCIDENT_TYPE</th>\n",
              "      <th>HUNDRED_BLOCK</th>\n",
              "      <th>MONTH</th>\n",
              "      <th>YEAR</th>\n",
              "      <th>FILE_NUMBER</th>\n",
              "    </tr>\n",
              "  </thead>\n",
              "  <tbody>\n",
              "    <tr>\n",
              "      <th>0</th>\n",
              "      <td>Break and Enter - Business</td>\n",
              "      <td>10200 GRACE RD</td>\n",
              "      <td>1</td>\n",
              "      <td>2019</td>\n",
              "      <td>19-252</td>\n",
              "    </tr>\n",
              "    <tr>\n",
              "      <th>1</th>\n",
              "      <td>Break and Enter - Business</td>\n",
              "      <td>13500 106TH AVE</td>\n",
              "      <td>1</td>\n",
              "      <td>2019</td>\n",
              "      <td>19-649</td>\n",
              "    </tr>\n",
              "    <tr>\n",
              "      <th>2</th>\n",
              "      <td>Break and Enter - Business</td>\n",
              "      <td>10400 UNIVERSITY DR</td>\n",
              "      <td>1</td>\n",
              "      <td>2019</td>\n",
              "      <td>19-1744</td>\n",
              "    </tr>\n",
              "    <tr>\n",
              "      <th>3</th>\n",
              "      <td>Break and Enter - Business</td>\n",
              "      <td>9800 140TH ST</td>\n",
              "      <td>1</td>\n",
              "      <td>2019</td>\n",
              "      <td>19-2943</td>\n",
              "    </tr>\n",
              "    <tr>\n",
              "      <th>4</th>\n",
              "      <td>Break and Enter - Business</td>\n",
              "      <td>13500 105TH AVE</td>\n",
              "      <td>1</td>\n",
              "      <td>2019</td>\n",
              "      <td>19-3136</td>\n",
              "    </tr>\n",
              "  </tbody>\n",
              "</table>\n",
              "</div>"
            ],
            "text/plain": [
              "                INCIDENT_TYPE        HUNDRED_BLOCK  MONTH  YEAR FILE_NUMBER\n",
              "0  Break and Enter - Business       10200 GRACE RD      1  2019      19-252\n",
              "1  Break and Enter - Business      13500 106TH AVE      1  2019      19-649\n",
              "2  Break and Enter - Business  10400 UNIVERSITY DR      1  2019     19-1744\n",
              "3  Break and Enter - Business        9800 140TH ST      1  2019     19-2943\n",
              "4  Break and Enter - Business      13500 105TH AVE      1  2019     19-3136"
            ]
          },
          "metadata": {
            "tags": []
          },
          "execution_count": 112
        }
      ]
    },
    {
      "cell_type": "code",
      "metadata": {
        "id": "fH9AcTxcZZI9",
        "outputId": "0408302d-5944-4aef-cf72-8d86cf8168cf",
        "colab": {
          "base_uri": "https://localhost:8080/",
          "height": 35
        }
      },
      "source": [
        "#use shape to check the size of our data (rows, columns)\n",
        "ccc.shape "
      ],
      "execution_count": 113,
      "outputs": [
        {
          "output_type": "execute_result",
          "data": {
            "text/plain": [
              "(20479, 5)"
            ]
          },
          "metadata": {
            "tags": []
          },
          "execution_count": 113
        }
      ]
    },
    {
      "cell_type": "markdown",
      "metadata": {
        "id": "KHupzBE4aNeS"
      },
      "source": [
        "Using the describe() method for practice purposes. Otherwise, doesn't provide insightful details on our data set, as result shows"
      ]
    },
    {
      "cell_type": "code",
      "metadata": {
        "id": "m5FwLR1CZwyo",
        "outputId": "765caae8-1456-405d-8436-8542acd872f7",
        "colab": {
          "base_uri": "https://localhost:8080/",
          "height": 294
        }
      },
      "source": [
        "#Use describe() method to understand the basic statistics of our data set\n",
        "ccc.describe()"
      ],
      "execution_count": 114,
      "outputs": [
        {
          "output_type": "execute_result",
          "data": {
            "text/html": [
              "<div>\n",
              "<style scoped>\n",
              "    .dataframe tbody tr th:only-of-type {\n",
              "        vertical-align: middle;\n",
              "    }\n",
              "\n",
              "    .dataframe tbody tr th {\n",
              "        vertical-align: top;\n",
              "    }\n",
              "\n",
              "    .dataframe thead th {\n",
              "        text-align: right;\n",
              "    }\n",
              "</style>\n",
              "<table border=\"1\" class=\"dataframe\">\n",
              "  <thead>\n",
              "    <tr style=\"text-align: right;\">\n",
              "      <th></th>\n",
              "      <th>MONTH</th>\n",
              "      <th>YEAR</th>\n",
              "    </tr>\n",
              "  </thead>\n",
              "  <tbody>\n",
              "    <tr>\n",
              "      <th>count</th>\n",
              "      <td>20479.000000</td>\n",
              "      <td>20479.0</td>\n",
              "    </tr>\n",
              "    <tr>\n",
              "      <th>mean</th>\n",
              "      <td>6.463987</td>\n",
              "      <td>2019.0</td>\n",
              "    </tr>\n",
              "    <tr>\n",
              "      <th>std</th>\n",
              "      <td>3.449758</td>\n",
              "      <td>0.0</td>\n",
              "    </tr>\n",
              "    <tr>\n",
              "      <th>min</th>\n",
              "      <td>1.000000</td>\n",
              "      <td>2019.0</td>\n",
              "    </tr>\n",
              "    <tr>\n",
              "      <th>25%</th>\n",
              "      <td>3.000000</td>\n",
              "      <td>2019.0</td>\n",
              "    </tr>\n",
              "    <tr>\n",
              "      <th>50%</th>\n",
              "      <td>7.000000</td>\n",
              "      <td>2019.0</td>\n",
              "    </tr>\n",
              "    <tr>\n",
              "      <th>75%</th>\n",
              "      <td>9.000000</td>\n",
              "      <td>2019.0</td>\n",
              "    </tr>\n",
              "    <tr>\n",
              "      <th>max</th>\n",
              "      <td>12.000000</td>\n",
              "      <td>2019.0</td>\n",
              "    </tr>\n",
              "  </tbody>\n",
              "</table>\n",
              "</div>"
            ],
            "text/plain": [
              "              MONTH     YEAR\n",
              "count  20479.000000  20479.0\n",
              "mean       6.463987   2019.0\n",
              "std        3.449758      0.0\n",
              "min        1.000000   2019.0\n",
              "25%        3.000000   2019.0\n",
              "50%        7.000000   2019.0\n",
              "75%        9.000000   2019.0\n",
              "max       12.000000   2019.0"
            ]
          },
          "metadata": {
            "tags": []
          },
          "execution_count": 114
        }
      ]
    },
    {
      "cell_type": "code",
      "metadata": {
        "id": "Y--jU91uaD-9",
        "outputId": "3f5763f4-80f0-44c1-a67f-d4776e11622b",
        "colab": {
          "base_uri": "https://localhost:8080/",
          "height": 121
        }
      },
      "source": [
        "#finding percent missing values\n",
        "ccc.isna().mean()"
      ],
      "execution_count": 115,
      "outputs": [
        {
          "output_type": "execute_result",
          "data": {
            "text/plain": [
              "INCIDENT_TYPE    0.000000\n",
              "HUNDRED_BLOCK    0.000488\n",
              "MONTH            0.000000\n",
              "YEAR             0.000000\n",
              "FILE_NUMBER      0.000000\n",
              "dtype: float64"
            ]
          },
          "metadata": {
            "tags": []
          },
          "execution_count": 115
        }
      ]
    },
    {
      "cell_type": "code",
      "metadata": {
        "id": "6VIPBi4nn0PW",
        "outputId": "fe6e2fdc-ce94-4262-ed62-862b488d23c5",
        "colab": {
          "base_uri": "https://localhost:8080/",
          "height": 121
        }
      },
      "source": [
        "#finding the count of missing values for each column\n",
        "ccc.isnull().sum()"
      ],
      "execution_count": 116,
      "outputs": [
        {
          "output_type": "execute_result",
          "data": {
            "text/plain": [
              "INCIDENT_TYPE     0\n",
              "HUNDRED_BLOCK    10\n",
              "MONTH             0\n",
              "YEAR              0\n",
              "FILE_NUMBER       0\n",
              "dtype: int64"
            ]
          },
          "metadata": {
            "tags": []
          },
          "execution_count": 116
        }
      ]
    },
    {
      "cell_type": "markdown",
      "metadata": {
        "id": "ExaH0OzinSJC"
      },
      "source": [
        "Based on the above, we do not have any missing values to fill in, except for HUNDRED_BLOCK which is missing **10** values. However, since my analysis will not focus on locations of incident (HUNDRED_BLOCK), no filling is required. \n",
        "\n",
        "Therefore, I will deleting both the HUNDRED_BLOCK and FILE_NUMBER. \n",
        "\n",
        "Let's do some deeper Exploration Data Analysis (EDA)"
      ]
    },
    {
      "cell_type": "code",
      "metadata": {
        "id": "TtX8qeu8uD_m",
        "outputId": "0fdfe1bc-7574-47c9-cf02-fc887600af95",
        "colab": {
          "base_uri": "https://localhost:8080/",
          "height": 202
        }
      },
      "source": [
        "ccc.head()"
      ],
      "execution_count": 117,
      "outputs": [
        {
          "output_type": "execute_result",
          "data": {
            "text/html": [
              "<div>\n",
              "<style scoped>\n",
              "    .dataframe tbody tr th:only-of-type {\n",
              "        vertical-align: middle;\n",
              "    }\n",
              "\n",
              "    .dataframe tbody tr th {\n",
              "        vertical-align: top;\n",
              "    }\n",
              "\n",
              "    .dataframe thead th {\n",
              "        text-align: right;\n",
              "    }\n",
              "</style>\n",
              "<table border=\"1\" class=\"dataframe\">\n",
              "  <thead>\n",
              "    <tr style=\"text-align: right;\">\n",
              "      <th></th>\n",
              "      <th>INCIDENT_TYPE</th>\n",
              "      <th>HUNDRED_BLOCK</th>\n",
              "      <th>MONTH</th>\n",
              "      <th>YEAR</th>\n",
              "      <th>FILE_NUMBER</th>\n",
              "    </tr>\n",
              "  </thead>\n",
              "  <tbody>\n",
              "    <tr>\n",
              "      <th>0</th>\n",
              "      <td>Break and Enter - Business</td>\n",
              "      <td>10200 GRACE RD</td>\n",
              "      <td>1</td>\n",
              "      <td>2019</td>\n",
              "      <td>19-252</td>\n",
              "    </tr>\n",
              "    <tr>\n",
              "      <th>1</th>\n",
              "      <td>Break and Enter - Business</td>\n",
              "      <td>13500 106TH AVE</td>\n",
              "      <td>1</td>\n",
              "      <td>2019</td>\n",
              "      <td>19-649</td>\n",
              "    </tr>\n",
              "    <tr>\n",
              "      <th>2</th>\n",
              "      <td>Break and Enter - Business</td>\n",
              "      <td>10400 UNIVERSITY DR</td>\n",
              "      <td>1</td>\n",
              "      <td>2019</td>\n",
              "      <td>19-1744</td>\n",
              "    </tr>\n",
              "    <tr>\n",
              "      <th>3</th>\n",
              "      <td>Break and Enter - Business</td>\n",
              "      <td>9800 140TH ST</td>\n",
              "      <td>1</td>\n",
              "      <td>2019</td>\n",
              "      <td>19-2943</td>\n",
              "    </tr>\n",
              "    <tr>\n",
              "      <th>4</th>\n",
              "      <td>Break and Enter - Business</td>\n",
              "      <td>13500 105TH AVE</td>\n",
              "      <td>1</td>\n",
              "      <td>2019</td>\n",
              "      <td>19-3136</td>\n",
              "    </tr>\n",
              "  </tbody>\n",
              "</table>\n",
              "</div>"
            ],
            "text/plain": [
              "                INCIDENT_TYPE        HUNDRED_BLOCK  MONTH  YEAR FILE_NUMBER\n",
              "0  Break and Enter - Business       10200 GRACE RD      1  2019      19-252\n",
              "1  Break and Enter - Business      13500 106TH AVE      1  2019      19-649\n",
              "2  Break and Enter - Business  10400 UNIVERSITY DR      1  2019     19-1744\n",
              "3  Break and Enter - Business        9800 140TH ST      1  2019     19-2943\n",
              "4  Break and Enter - Business      13500 105TH AVE      1  2019     19-3136"
            ]
          },
          "metadata": {
            "tags": []
          },
          "execution_count": 117
        }
      ]
    },
    {
      "cell_type": "code",
      "metadata": {
        "id": "i48zxhtrtVTD"
      },
      "source": [
        "#deleting column HUNDRED_BLOCK\n",
        "del ccc['HUNDRED_BLOCK'];"
      ],
      "execution_count": 118,
      "outputs": []
    },
    {
      "cell_type": "code",
      "metadata": {
        "id": "cMnXg5gZv3H9",
        "outputId": "94663018-8030-4e09-834e-497422b841a1",
        "colab": {
          "base_uri": "https://localhost:8080/",
          "height": 202
        }
      },
      "source": [
        "#checking for successful deletion of column\n",
        "ccc.head()"
      ],
      "execution_count": 119,
      "outputs": [
        {
          "output_type": "execute_result",
          "data": {
            "text/html": [
              "<div>\n",
              "<style scoped>\n",
              "    .dataframe tbody tr th:only-of-type {\n",
              "        vertical-align: middle;\n",
              "    }\n",
              "\n",
              "    .dataframe tbody tr th {\n",
              "        vertical-align: top;\n",
              "    }\n",
              "\n",
              "    .dataframe thead th {\n",
              "        text-align: right;\n",
              "    }\n",
              "</style>\n",
              "<table border=\"1\" class=\"dataframe\">\n",
              "  <thead>\n",
              "    <tr style=\"text-align: right;\">\n",
              "      <th></th>\n",
              "      <th>INCIDENT_TYPE</th>\n",
              "      <th>MONTH</th>\n",
              "      <th>YEAR</th>\n",
              "      <th>FILE_NUMBER</th>\n",
              "    </tr>\n",
              "  </thead>\n",
              "  <tbody>\n",
              "    <tr>\n",
              "      <th>0</th>\n",
              "      <td>Break and Enter - Business</td>\n",
              "      <td>1</td>\n",
              "      <td>2019</td>\n",
              "      <td>19-252</td>\n",
              "    </tr>\n",
              "    <tr>\n",
              "      <th>1</th>\n",
              "      <td>Break and Enter - Business</td>\n",
              "      <td>1</td>\n",
              "      <td>2019</td>\n",
              "      <td>19-649</td>\n",
              "    </tr>\n",
              "    <tr>\n",
              "      <th>2</th>\n",
              "      <td>Break and Enter - Business</td>\n",
              "      <td>1</td>\n",
              "      <td>2019</td>\n",
              "      <td>19-1744</td>\n",
              "    </tr>\n",
              "    <tr>\n",
              "      <th>3</th>\n",
              "      <td>Break and Enter - Business</td>\n",
              "      <td>1</td>\n",
              "      <td>2019</td>\n",
              "      <td>19-2943</td>\n",
              "    </tr>\n",
              "    <tr>\n",
              "      <th>4</th>\n",
              "      <td>Break and Enter - Business</td>\n",
              "      <td>1</td>\n",
              "      <td>2019</td>\n",
              "      <td>19-3136</td>\n",
              "    </tr>\n",
              "  </tbody>\n",
              "</table>\n",
              "</div>"
            ],
            "text/plain": [
              "                INCIDENT_TYPE  MONTH  YEAR FILE_NUMBER\n",
              "0  Break and Enter - Business      1  2019      19-252\n",
              "1  Break and Enter - Business      1  2019      19-649\n",
              "2  Break and Enter - Business      1  2019     19-1744\n",
              "3  Break and Enter - Business      1  2019     19-2943\n",
              "4  Break and Enter - Business      1  2019     19-3136"
            ]
          },
          "metadata": {
            "tags": []
          },
          "execution_count": 119
        }
      ]
    },
    {
      "cell_type": "code",
      "metadata": {
        "id": "irCx5krYw6WJ"
      },
      "source": [
        "#deleting column HUNDRED_BLOCK\n",
        "del ccc['FILE_NUMBER'];"
      ],
      "execution_count": 121,
      "outputs": []
    },
    {
      "cell_type": "code",
      "metadata": {
        "id": "auJbIx4uxmiZ",
        "outputId": "83e691d7-c3e2-451f-d5a7-938bd71e5572",
        "colab": {
          "base_uri": "https://localhost:8080/",
          "height": 202
        }
      },
      "source": [
        "#checking for successful deletion of column\n",
        "ccc.head()"
      ],
      "execution_count": 122,
      "outputs": [
        {
          "output_type": "execute_result",
          "data": {
            "text/html": [
              "<div>\n",
              "<style scoped>\n",
              "    .dataframe tbody tr th:only-of-type {\n",
              "        vertical-align: middle;\n",
              "    }\n",
              "\n",
              "    .dataframe tbody tr th {\n",
              "        vertical-align: top;\n",
              "    }\n",
              "\n",
              "    .dataframe thead th {\n",
              "        text-align: right;\n",
              "    }\n",
              "</style>\n",
              "<table border=\"1\" class=\"dataframe\">\n",
              "  <thead>\n",
              "    <tr style=\"text-align: right;\">\n",
              "      <th></th>\n",
              "      <th>INCIDENT_TYPE</th>\n",
              "      <th>MONTH</th>\n",
              "      <th>YEAR</th>\n",
              "    </tr>\n",
              "  </thead>\n",
              "  <tbody>\n",
              "    <tr>\n",
              "      <th>0</th>\n",
              "      <td>Break and Enter - Business</td>\n",
              "      <td>1</td>\n",
              "      <td>2019</td>\n",
              "    </tr>\n",
              "    <tr>\n",
              "      <th>1</th>\n",
              "      <td>Break and Enter - Business</td>\n",
              "      <td>1</td>\n",
              "      <td>2019</td>\n",
              "    </tr>\n",
              "    <tr>\n",
              "      <th>2</th>\n",
              "      <td>Break and Enter - Business</td>\n",
              "      <td>1</td>\n",
              "      <td>2019</td>\n",
              "    </tr>\n",
              "    <tr>\n",
              "      <th>3</th>\n",
              "      <td>Break and Enter - Business</td>\n",
              "      <td>1</td>\n",
              "      <td>2019</td>\n",
              "    </tr>\n",
              "    <tr>\n",
              "      <th>4</th>\n",
              "      <td>Break and Enter - Business</td>\n",
              "      <td>1</td>\n",
              "      <td>2019</td>\n",
              "    </tr>\n",
              "  </tbody>\n",
              "</table>\n",
              "</div>"
            ],
            "text/plain": [
              "                INCIDENT_TYPE  MONTH  YEAR\n",
              "0  Break and Enter - Business      1  2019\n",
              "1  Break and Enter - Business      1  2019\n",
              "2  Break and Enter - Business      1  2019\n",
              "3  Break and Enter - Business      1  2019\n",
              "4  Break and Enter - Business      1  2019"
            ]
          },
          "metadata": {
            "tags": []
          },
          "execution_count": 122
        }
      ]
    },
    {
      "cell_type": "markdown",
      "metadata": {
        "id": "JEiPa2IRo3wH"
      },
      "source": [
        "# Deeper EDA\n",
        "In this section, we will use visualizations to help understand our data set"
      ]
    },
    {
      "cell_type": "code",
      "metadata": {
        "id": "CK3UC3VlbBql",
        "outputId": "c18a5aab-479b-4db7-e736-9aa2eddd3f22",
        "colab": {
          "base_uri": "https://localhost:8080/",
          "height": 202
        }
      },
      "source": [
        "ccc.head()"
      ],
      "execution_count": 123,
      "outputs": [
        {
          "output_type": "execute_result",
          "data": {
            "text/html": [
              "<div>\n",
              "<style scoped>\n",
              "    .dataframe tbody tr th:only-of-type {\n",
              "        vertical-align: middle;\n",
              "    }\n",
              "\n",
              "    .dataframe tbody tr th {\n",
              "        vertical-align: top;\n",
              "    }\n",
              "\n",
              "    .dataframe thead th {\n",
              "        text-align: right;\n",
              "    }\n",
              "</style>\n",
              "<table border=\"1\" class=\"dataframe\">\n",
              "  <thead>\n",
              "    <tr style=\"text-align: right;\">\n",
              "      <th></th>\n",
              "      <th>INCIDENT_TYPE</th>\n",
              "      <th>MONTH</th>\n",
              "      <th>YEAR</th>\n",
              "    </tr>\n",
              "  </thead>\n",
              "  <tbody>\n",
              "    <tr>\n",
              "      <th>0</th>\n",
              "      <td>Break and Enter - Business</td>\n",
              "      <td>1</td>\n",
              "      <td>2019</td>\n",
              "    </tr>\n",
              "    <tr>\n",
              "      <th>1</th>\n",
              "      <td>Break and Enter - Business</td>\n",
              "      <td>1</td>\n",
              "      <td>2019</td>\n",
              "    </tr>\n",
              "    <tr>\n",
              "      <th>2</th>\n",
              "      <td>Break and Enter - Business</td>\n",
              "      <td>1</td>\n",
              "      <td>2019</td>\n",
              "    </tr>\n",
              "    <tr>\n",
              "      <th>3</th>\n",
              "      <td>Break and Enter - Business</td>\n",
              "      <td>1</td>\n",
              "      <td>2019</td>\n",
              "    </tr>\n",
              "    <tr>\n",
              "      <th>4</th>\n",
              "      <td>Break and Enter - Business</td>\n",
              "      <td>1</td>\n",
              "      <td>2019</td>\n",
              "    </tr>\n",
              "  </tbody>\n",
              "</table>\n",
              "</div>"
            ],
            "text/plain": [
              "                INCIDENT_TYPE  MONTH  YEAR\n",
              "0  Break and Enter - Business      1  2019\n",
              "1  Break and Enter - Business      1  2019\n",
              "2  Break and Enter - Business      1  2019\n",
              "3  Break and Enter - Business      1  2019\n",
              "4  Break and Enter - Business      1  2019"
            ]
          },
          "metadata": {
            "tags": []
          },
          "execution_count": 123
        }
      ]
    },
    {
      "cell_type": "code",
      "metadata": {
        "id": "uwXvfSFtb8WV",
        "outputId": "23059275-30a8-40f4-eac3-7451de09fefc",
        "colab": {
          "base_uri": "https://localhost:8080/",
          "height": 442
        }
      },
      "source": [
        "#How is the incident type distibuted in Surrey\n",
        "plt.rcParams[\"figure.figsize\"] = (15,7)\n",
        "sns.histplot(data=ccc['INCIDENT_TYPE'], y=ccc['INCIDENT_TYPE'], hue=ccc['INCIDENT_TYPE']);"
      ],
      "execution_count": 124,
      "outputs": [
        {
          "output_type": "display_data",
          "data": {
            "image/png": "[encoded data removed]",
            "text/plain": [
              "<Figure size 1080x504 with 1 Axes>"
            ]
          },
          "metadata": {
            "tags": [],
            "needs_background": "light"
          }
        }
      ]
    },
    {
      "cell_type": "code",
      "metadata": {
        "id": "FqzKe_6Pgoqq",
        "outputId": "80ab759b-bd85-4888-e55f-1cc0a8013607",
        "colab": {
          "base_uri": "https://localhost:8080/",
          "height": 439
        }
      },
      "source": [
        "#How is the incident type in Surrey distributed by month in Surret\n",
        "plt.rcParams[\"figure.figsize\"] = (20,7)\n",
        "sns.histplot(data=ccc['MONTH'], y=ccc['MONTH'], hue=ccc['INCIDENT_TYPE'], multiple='layer');"
      ],
      "execution_count": 125,
      "outputs": [
        {
          "output_type": "display_data",
          "data": {
            "image/png": "[encoded data removed]",
            "text/plain": [
              "<Figure size 1440x504 with 1 Axes>"
            ]
          },
          "metadata": {
            "tags": [],
            "needs_background": "light"
          }
        }
      ]
    }
  ]
}