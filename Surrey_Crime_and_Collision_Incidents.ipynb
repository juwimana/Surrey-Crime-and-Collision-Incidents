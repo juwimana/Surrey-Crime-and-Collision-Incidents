{
  "nbformat": 4,
  "nbformat_minor": 0,
  "metadata": {
    "colab": {
      "name": "Surrey Crime and Collision Incidents.ipynb",
      "provenance": [],
      "include_colab_link": true
    },
    "kernelspec": {
      "name": "python3",
      "display_name": "Python 3"
    }
  },
  "cells": [
    {
      "cell_type": "markdown",
      "metadata": {
        "id": "view-in-github",
        "colab_type": "text"
      },
      "source": [
        "<a href=\"https://colab.research.google.com/github/juwimana/Surrey-Crime-and-Collision-Incidents/blob/main/Surrey_Crime_and_Collision_Incidents.ipynb\" target=\"_parent\"><img src=\"https://colab.research.google.com/assets/colab-badge.svg\" alt=\"Open In Colab\"/></a>"
      ]
    },
    {
      "cell_type": "markdown",
      "metadata": {
        "id": "1rgP8UGATKYQ"
      },
      "source": [
        "# **[Surrey](https://https://www.surrey.ca/), British Columbia, Canada Crime and Collision Incidents 2014-19 Analysis**\n",
        "Today, I will be an analyizing the Crime and Collison Incidents 2014-2019 [Data Set](https://data.surrey.ca/dataset/rcmp-crime/resource/130f817c-0940-4cbe-bac8-90dac92f0670) for Surrey (British Columbia) in search of insights and a better understanding of Python as a tool for Data Science "
      ]
    },
    {
      "cell_type": "markdown",
      "metadata": {
        "id": "RY8jLedFqCmH"
      },
      "source": [
        "# Importing Data\n",
        "Below, we will use [Python Pandas](https://pandas.pydata.org/docs/index.html) to import our csv formated data from a Github URL and read it into a Pandas Dataframe using the Pandas [read_csv](https://pandas.pydata.org/docs/reference/api/pandas.read_csv.html?highlight=read_csv#pandas.read_csv) function. "
      ]
    },
    {
      "cell_type": "code",
      "metadata": {
        "id": "eHWJNZS9TMie"
      },
      "source": [
        "#import data analysis packages\n",
        "import pandas as pd\n",
        "import numpy as np\n",
        "\n",
        "#import plotting packages\n",
        "import matplotlib.pyplot as plt\n",
        "import seaborn as sns"
      ],
      "execution_count": 36,
      "outputs": []
    },
    {
      "cell_type": "code",
      "metadata": {
        "id": "Po08d-NJTklx",
        "outputId": "60ed5d6c-c96e-4831-b004-67044d0189aa",
        "colab": {
          "base_uri": "https://localhost:8080/",
          "height": 415
        }
      },
      "source": [
        "#import the data from Github URL\n",
        "ccc19 = pd.read_csv('https://raw.githubusercontent.com/juwimana/Surrey-Crime-and-Collision-Incidents/main/Crime%20and%20Collision%20Incidents%202019', sep='\\t')\n",
        "ccc18 = pd.read_csv('https://raw.githubusercontent.com/juwimana/Surrey-Crime-and-Collision-Incidents/main/Crime%20and%20Collisions%20Incidents%202018',sep ='\\t')\n",
        "ccc17 = pd.read_csv('https://raw.githubusercontent.com/juwimana/Surrey-Crime-and-Collision-Incidents/main/Crime%20and%20Collision%20Incidents%202017',sep ='\\t')\n",
        "ccc16 = pd.read_csv('https://raw.githubusercontent.com/juwimana/Surrey-Crime-and-Collision-Incidents/main/Crime%20and%20Collision%20Incidents%202016',sep='\\t')\n",
        "ccc15 = pd.read_csv('https://raw.githubusercontent.com/juwimana/Surrey-Crime-and-Collision-Incidents/main/Crime%20and%20Collision%20Incidents%202015',sep='\\t')\n",
        "ccc14 = pd.read_csv('https://raw.githubusercontent.com/juwimana/Surrey-Crime-and-Collision-Incidents/main/Crime%20and%20Collision%20Incidents%202014',sep='\\t')\n",
        "csv_files = [ccc15, ccc16, ccc17, ccc18, ccc19]\n",
        "ccc = ccc14.append(csv_files)\n",
        "ccc"
      ],
      "execution_count": 40,
      "outputs": [
        {
          "output_type": "execute_result",
          "data": {
            "text/html": [
              "<div>\n",
              "<style scoped>\n",
              "    .dataframe tbody tr th:only-of-type {\n",
              "        vertical-align: middle;\n",
              "    }\n",
              "\n",
              "    .dataframe tbody tr th {\n",
              "        vertical-align: top;\n",
              "    }\n",
              "\n",
              "    .dataframe thead th {\n",
              "        text-align: right;\n",
              "    }\n",
              "</style>\n",
              "<table border=\"1\" class=\"dataframe\">\n",
              "  <thead>\n",
              "    <tr style=\"text-align: right;\">\n",
              "      <th></th>\n",
              "      <th>INCIDENT_TYPE</th>\n",
              "      <th>LOCATION</th>\n",
              "      <th>MONTH</th>\n",
              "      <th>YEAR</th>\n",
              "      <th>HUNDRED_BLOCK</th>\n",
              "      <th>FILE_NUMBER</th>\n",
              "    </tr>\n",
              "  </thead>\n",
              "  <tbody>\n",
              "    <tr>\n",
              "      <th>0</th>\n",
              "      <td>Theft of Motor Vehicle</td>\n",
              "      <td>17700 64TH AVE</td>\n",
              "      <td>1</td>\n",
              "      <td>2014</td>\n",
              "      <td>NaN</td>\n",
              "      <td>NaN</td>\n",
              "    </tr>\n",
              "    <tr>\n",
              "      <th>1</th>\n",
              "      <td>Theft from Motor Vehicle</td>\n",
              "      <td>8100 128TH ST</td>\n",
              "      <td>1</td>\n",
              "      <td>2014</td>\n",
              "      <td>NaN</td>\n",
              "      <td>NaN</td>\n",
              "    </tr>\n",
              "    <tr>\n",
              "      <th>2</th>\n",
              "      <td>Fatal/Injury Collision</td>\n",
              "      <td>9700 134TH ST</td>\n",
              "      <td>1</td>\n",
              "      <td>2014</td>\n",
              "      <td>NaN</td>\n",
              "      <td>NaN</td>\n",
              "    </tr>\n",
              "    <tr>\n",
              "      <th>3</th>\n",
              "      <td>Fatal/Injury Collision</td>\n",
              "      <td>2400 140TH ST</td>\n",
              "      <td>1</td>\n",
              "      <td>2014</td>\n",
              "      <td>NaN</td>\n",
              "      <td>NaN</td>\n",
              "    </tr>\n",
              "    <tr>\n",
              "      <th>4</th>\n",
              "      <td>Break and Enter - Business</td>\n",
              "      <td>15900 108TH AVE</td>\n",
              "      <td>1</td>\n",
              "      <td>2014</td>\n",
              "      <td>NaN</td>\n",
              "      <td>NaN</td>\n",
              "    </tr>\n",
              "    <tr>\n",
              "      <th>...</th>\n",
              "      <td>...</td>\n",
              "      <td>...</td>\n",
              "      <td>...</td>\n",
              "      <td>...</td>\n",
              "      <td>...</td>\n",
              "      <td>...</td>\n",
              "    </tr>\n",
              "    <tr>\n",
              "      <th>20474</th>\n",
              "      <td>Graffiti</td>\n",
              "      <td>NaN</td>\n",
              "      <td>11</td>\n",
              "      <td>2019</td>\n",
              "      <td>12993 KING GEORGE BLVD</td>\n",
              "      <td>22496008</td>\n",
              "    </tr>\n",
              "    <tr>\n",
              "      <th>20475</th>\n",
              "      <td>Graffiti</td>\n",
              "      <td>NaN</td>\n",
              "      <td>12</td>\n",
              "      <td>2019</td>\n",
              "      <td>16098 FRASER HWY</td>\n",
              "      <td>22563953</td>\n",
              "    </tr>\n",
              "    <tr>\n",
              "      <th>20476</th>\n",
              "      <td>Graffiti</td>\n",
              "      <td>NaN</td>\n",
              "      <td>11</td>\n",
              "      <td>2019</td>\n",
              "      <td>13778 100 AVE</td>\n",
              "      <td>22480678</td>\n",
              "    </tr>\n",
              "    <tr>\n",
              "      <th>20477</th>\n",
              "      <td>Graffiti</td>\n",
              "      <td>NaN</td>\n",
              "      <td>12</td>\n",
              "      <td>2019</td>\n",
              "      <td>9310 KING GEORGE BLVD</td>\n",
              "      <td>22516156</td>\n",
              "    </tr>\n",
              "    <tr>\n",
              "      <th>20478</th>\n",
              "      <td>Graffiti</td>\n",
              "      <td>NaN</td>\n",
              "      <td>11</td>\n",
              "      <td>2019</td>\n",
              "      <td>13761 96 AVE</td>\n",
              "      <td>22484135</td>\n",
              "    </tr>\n",
              "  </tbody>\n",
              "</table>\n",
              "<p>137232 rows × 6 columns</p>\n",
              "</div>"
            ],
            "text/plain": [
              "                    INCIDENT_TYPE  ... FILE_NUMBER\n",
              "0          Theft of Motor Vehicle  ...         NaN\n",
              "1        Theft from Motor Vehicle  ...         NaN\n",
              "2          Fatal/Injury Collision  ...         NaN\n",
              "3          Fatal/Injury Collision  ...         NaN\n",
              "4      Break and Enter - Business  ...         NaN\n",
              "...                           ...  ...         ...\n",
              "20474                    Graffiti  ...    22496008\n",
              "20475                    Graffiti  ...    22563953\n",
              "20476                    Graffiti  ...    22480678\n",
              "20477                    Graffiti  ...    22516156\n",
              "20478                    Graffiti  ...    22484135\n",
              "\n",
              "[137232 rows x 6 columns]"
            ]
          },
          "metadata": {
            "tags": []
          },
          "execution_count": 40
        }
      ]
    },
    {
      "cell_type": "markdown",
      "metadata": {
        "id": "uKax6b1-pN5C"
      },
      "source": [
        "# Initial Exploration Data Analysis (EDA)\n",
        "In this section, I will be familiarizing myself with the data set and understand the structure it's currently in along with any insights"
      ]
    },
    {
      "cell_type": "code",
      "metadata": {
        "id": "MUTfZD0iUtaU",
        "outputId": "dc114081-d31b-4b60-c723-f20f5ead56fb",
        "colab": {
          "base_uri": "https://localhost:8080/",
          "height": 202
        }
      },
      "source": [
        "#View first few lines of data set\n",
        "ccc.head()"
      ],
      "execution_count": 4,
      "outputs": [
        {
          "output_type": "execute_result",
          "data": {
            "text/html": [
              "<div>\n",
              "<style scoped>\n",
              "    .dataframe tbody tr th:only-of-type {\n",
              "        vertical-align: middle;\n",
              "    }\n",
              "\n",
              "    .dataframe tbody tr th {\n",
              "        vertical-align: top;\n",
              "    }\n",
              "\n",
              "    .dataframe thead th {\n",
              "        text-align: right;\n",
              "    }\n",
              "</style>\n",
              "<table border=\"1\" class=\"dataframe\">\n",
              "  <thead>\n",
              "    <tr style=\"text-align: right;\">\n",
              "      <th></th>\n",
              "      <th>INCIDENT_TYPE</th>\n",
              "      <th>HUNDRED_BLOCK</th>\n",
              "      <th>MONTH</th>\n",
              "      <th>YEAR</th>\n",
              "      <th>FILE_NUMBER</th>\n",
              "    </tr>\n",
              "  </thead>\n",
              "  <tbody>\n",
              "    <tr>\n",
              "      <th>0</th>\n",
              "      <td>Fatal/Injury Collision</td>\n",
              "      <td>12000 NEW MCLELLAN RD</td>\n",
              "      <td>1</td>\n",
              "      <td>2017</td>\n",
              "      <td>17-51</td>\n",
              "    </tr>\n",
              "    <tr>\n",
              "      <th>1</th>\n",
              "      <td>Fatal/Injury Collision</td>\n",
              "      <td>6100 192ND ST</td>\n",
              "      <td>1</td>\n",
              "      <td>2017</td>\n",
              "      <td>17-139</td>\n",
              "    </tr>\n",
              "    <tr>\n",
              "      <th>2</th>\n",
              "      <td>Fatal/Injury Collision</td>\n",
              "      <td>2800 BLOCK CROYDON DR</td>\n",
              "      <td>1</td>\n",
              "      <td>2017</td>\n",
              "      <td>17-141</td>\n",
              "    </tr>\n",
              "    <tr>\n",
              "      <th>3</th>\n",
              "      <td>Fatal/Injury Collision</td>\n",
              "      <td>179TH ST / 96TH AVE</td>\n",
              "      <td>1</td>\n",
              "      <td>2017</td>\n",
              "      <td>17-151</td>\n",
              "    </tr>\n",
              "    <tr>\n",
              "      <th>4</th>\n",
              "      <td>Fatal/Injury Collision</td>\n",
              "      <td>179TH ST / 96TH AVE</td>\n",
              "      <td>1</td>\n",
              "      <td>2017</td>\n",
              "      <td>17-151</td>\n",
              "    </tr>\n",
              "  </tbody>\n",
              "</table>\n",
              "</div>"
            ],
            "text/plain": [
              "            INCIDENT_TYPE          HUNDRED_BLOCK  MONTH  YEAR FILE_NUMBER\n",
              "0  Fatal/Injury Collision  12000 NEW MCLELLAN RD      1  2017       17-51\n",
              "1  Fatal/Injury Collision          6100 192ND ST      1  2017      17-139\n",
              "2  Fatal/Injury Collision  2800 BLOCK CROYDON DR      1  2017      17-141\n",
              "3  Fatal/Injury Collision    179TH ST / 96TH AVE      1  2017      17-151\n",
              "4  Fatal/Injury Collision    179TH ST / 96TH AVE      1  2017      17-151"
            ]
          },
          "metadata": {
            "tags": []
          },
          "execution_count": 4
        }
      ]
    },
    {
      "cell_type": "code",
      "metadata": {
        "id": "fH9AcTxcZZI9",
        "outputId": "d45355dc-bffe-4408-b315-bd5e856326ef",
        "colab": {
          "base_uri": "https://localhost:8080/",
          "height": 35
        }
      },
      "source": [
        "#use shape to check the size of our data (rows, columns)\n",
        "ccc.shape "
      ],
      "execution_count": 5,
      "outputs": [
        {
          "output_type": "execute_result",
          "data": {
            "text/plain": [
              "(86105, 5)"
            ]
          },
          "metadata": {
            "tags": []
          },
          "execution_count": 5
        }
      ]
    },
    {
      "cell_type": "markdown",
      "metadata": {
        "id": "KHupzBE4aNeS"
      },
      "source": [
        "Using the describe() method for practice purposes. Otherwise, doesn't provide insightful details on our data set, as result shows"
      ]
    },
    {
      "cell_type": "code",
      "metadata": {
        "id": "m5FwLR1CZwyo",
        "outputId": "e3bed130-b4d9-4bb1-8a3a-721e91da925b",
        "colab": {
          "base_uri": "https://localhost:8080/",
          "height": 294
        }
      },
      "source": [
        "#Use describe() method to understand the basic statistics of our data set\n",
        "ccc.describe()"
      ],
      "execution_count": 6,
      "outputs": [
        {
          "output_type": "execute_result",
          "data": {
            "text/html": [
              "<div>\n",
              "<style scoped>\n",
              "    .dataframe tbody tr th:only-of-type {\n",
              "        vertical-align: middle;\n",
              "    }\n",
              "\n",
              "    .dataframe tbody tr th {\n",
              "        vertical-align: top;\n",
              "    }\n",
              "\n",
              "    .dataframe thead th {\n",
              "        text-align: right;\n",
              "    }\n",
              "</style>\n",
              "<table border=\"1\" class=\"dataframe\">\n",
              "  <thead>\n",
              "    <tr style=\"text-align: right;\">\n",
              "      <th></th>\n",
              "      <th>MONTH</th>\n",
              "      <th>YEAR</th>\n",
              "    </tr>\n",
              "  </thead>\n",
              "  <tbody>\n",
              "    <tr>\n",
              "      <th>count</th>\n",
              "      <td>86105.000000</td>\n",
              "      <td>86105.000000</td>\n",
              "    </tr>\n",
              "    <tr>\n",
              "      <th>mean</th>\n",
              "      <td>6.536833</td>\n",
              "      <td>2017.715336</td>\n",
              "    </tr>\n",
              "    <tr>\n",
              "      <th>std</th>\n",
              "      <td>3.478975</td>\n",
              "      <td>0.824205</td>\n",
              "    </tr>\n",
              "    <tr>\n",
              "      <th>min</th>\n",
              "      <td>1.000000</td>\n",
              "      <td>2017.000000</td>\n",
              "    </tr>\n",
              "    <tr>\n",
              "      <th>25%</th>\n",
              "      <td>3.000000</td>\n",
              "      <td>2017.000000</td>\n",
              "    </tr>\n",
              "    <tr>\n",
              "      <th>50%</th>\n",
              "      <td>7.000000</td>\n",
              "      <td>2017.000000</td>\n",
              "    </tr>\n",
              "    <tr>\n",
              "      <th>75%</th>\n",
              "      <td>10.000000</td>\n",
              "      <td>2018.000000</td>\n",
              "    </tr>\n",
              "    <tr>\n",
              "      <th>max</th>\n",
              "      <td>12.000000</td>\n",
              "      <td>2019.000000</td>\n",
              "    </tr>\n",
              "  </tbody>\n",
              "</table>\n",
              "</div>"
            ],
            "text/plain": [
              "              MONTH          YEAR\n",
              "count  86105.000000  86105.000000\n",
              "mean       6.536833   2017.715336\n",
              "std        3.478975      0.824205\n",
              "min        1.000000   2017.000000\n",
              "25%        3.000000   2017.000000\n",
              "50%        7.000000   2017.000000\n",
              "75%       10.000000   2018.000000\n",
              "max       12.000000   2019.000000"
            ]
          },
          "metadata": {
            "tags": []
          },
          "execution_count": 6
        }
      ]
    },
    {
      "cell_type": "code",
      "metadata": {
        "id": "Y--jU91uaD-9",
        "outputId": "c857c1cc-a310-4cbd-be7e-502595d70f64",
        "colab": {
          "base_uri": "https://localhost:8080/",
          "height": 121
        }
      },
      "source": [
        "#finding percent missing values\n",
        "ccc.isna().mean()"
      ],
      "execution_count": 7,
      "outputs": [
        {
          "output_type": "execute_result",
          "data": {
            "text/plain": [
              "INCIDENT_TYPE    0.000000\n",
              "HUNDRED_BLOCK    0.000325\n",
              "MONTH            0.000000\n",
              "YEAR             0.000000\n",
              "FILE_NUMBER      0.000000\n",
              "dtype: float64"
            ]
          },
          "metadata": {
            "tags": []
          },
          "execution_count": 7
        }
      ]
    },
    {
      "cell_type": "code",
      "metadata": {
        "id": "6VIPBi4nn0PW",
        "outputId": "a5592830-db6e-4392-ff62-2af64b9c54a2",
        "colab": {
          "base_uri": "https://localhost:8080/",
          "height": 121
        }
      },
      "source": [
        "#finding the count of missing values for each column\n",
        "ccc.isnull().sum()"
      ],
      "execution_count": 8,
      "outputs": [
        {
          "output_type": "execute_result",
          "data": {
            "text/plain": [
              "INCIDENT_TYPE     0\n",
              "HUNDRED_BLOCK    28\n",
              "MONTH             0\n",
              "YEAR              0\n",
              "FILE_NUMBER       0\n",
              "dtype: int64"
            ]
          },
          "metadata": {
            "tags": []
          },
          "execution_count": 8
        }
      ]
    },
    {
      "cell_type": "markdown",
      "metadata": {
        "id": "ExaH0OzinSJC"
      },
      "source": [
        "Based on the above, we do not have any missing values to fill in, except for HUNDRED_BLOCK which is missing **28** values. However, since my analysis will not focus on locations of incident (HUNDRED_BLOCK), no filling is required. \n",
        "\n",
        "Therefore, I will delete both the HUNDRED_BLOCK and FILE_NUMBER. \n",
        "\n",
        "Let's do some deeper Exploration Data Analysis (EDA)"
      ]
    },
    {
      "cell_type": "code",
      "metadata": {
        "id": "TtX8qeu8uD_m",
        "outputId": "729d2d4e-aa47-4a13-bad2-039e700fde87",
        "colab": {
          "base_uri": "https://localhost:8080/",
          "height": 202
        }
      },
      "source": [
        "ccc.head()"
      ],
      "execution_count": 9,
      "outputs": [
        {
          "output_type": "execute_result",
          "data": {
            "text/html": [
              "<div>\n",
              "<style scoped>\n",
              "    .dataframe tbody tr th:only-of-type {\n",
              "        vertical-align: middle;\n",
              "    }\n",
              "\n",
              "    .dataframe tbody tr th {\n",
              "        vertical-align: top;\n",
              "    }\n",
              "\n",
              "    .dataframe thead th {\n",
              "        text-align: right;\n",
              "    }\n",
              "</style>\n",
              "<table border=\"1\" class=\"dataframe\">\n",
              "  <thead>\n",
              "    <tr style=\"text-align: right;\">\n",
              "      <th></th>\n",
              "      <th>INCIDENT_TYPE</th>\n",
              "      <th>HUNDRED_BLOCK</th>\n",
              "      <th>MONTH</th>\n",
              "      <th>YEAR</th>\n",
              "      <th>FILE_NUMBER</th>\n",
              "    </tr>\n",
              "  </thead>\n",
              "  <tbody>\n",
              "    <tr>\n",
              "      <th>0</th>\n",
              "      <td>Fatal/Injury Collision</td>\n",
              "      <td>12000 NEW MCLELLAN RD</td>\n",
              "      <td>1</td>\n",
              "      <td>2017</td>\n",
              "      <td>17-51</td>\n",
              "    </tr>\n",
              "    <tr>\n",
              "      <th>1</th>\n",
              "      <td>Fatal/Injury Collision</td>\n",
              "      <td>6100 192ND ST</td>\n",
              "      <td>1</td>\n",
              "      <td>2017</td>\n",
              "      <td>17-139</td>\n",
              "    </tr>\n",
              "    <tr>\n",
              "      <th>2</th>\n",
              "      <td>Fatal/Injury Collision</td>\n",
              "      <td>2800 BLOCK CROYDON DR</td>\n",
              "      <td>1</td>\n",
              "      <td>2017</td>\n",
              "      <td>17-141</td>\n",
              "    </tr>\n",
              "    <tr>\n",
              "      <th>3</th>\n",
              "      <td>Fatal/Injury Collision</td>\n",
              "      <td>179TH ST / 96TH AVE</td>\n",
              "      <td>1</td>\n",
              "      <td>2017</td>\n",
              "      <td>17-151</td>\n",
              "    </tr>\n",
              "    <tr>\n",
              "      <th>4</th>\n",
              "      <td>Fatal/Injury Collision</td>\n",
              "      <td>179TH ST / 96TH AVE</td>\n",
              "      <td>1</td>\n",
              "      <td>2017</td>\n",
              "      <td>17-151</td>\n",
              "    </tr>\n",
              "  </tbody>\n",
              "</table>\n",
              "</div>"
            ],
            "text/plain": [
              "            INCIDENT_TYPE          HUNDRED_BLOCK  MONTH  YEAR FILE_NUMBER\n",
              "0  Fatal/Injury Collision  12000 NEW MCLELLAN RD      1  2017       17-51\n",
              "1  Fatal/Injury Collision          6100 192ND ST      1  2017      17-139\n",
              "2  Fatal/Injury Collision  2800 BLOCK CROYDON DR      1  2017      17-141\n",
              "3  Fatal/Injury Collision    179TH ST / 96TH AVE      1  2017      17-151\n",
              "4  Fatal/Injury Collision    179TH ST / 96TH AVE      1  2017      17-151"
            ]
          },
          "metadata": {
            "tags": []
          },
          "execution_count": 9
        }
      ]
    },
    {
      "cell_type": "code",
      "metadata": {
        "id": "i48zxhtrtVTD"
      },
      "source": [
        "#deleting column HUNDRED_BLOCK\n",
        "del ccc['HUNDRED_BLOCK']"
      ],
      "execution_count": 10,
      "outputs": []
    },
    {
      "cell_type": "code",
      "metadata": {
        "id": "cMnXg5gZv3H9",
        "outputId": "1568d1b0-b78c-45f1-a2e7-acee487028d3",
        "colab": {
          "base_uri": "https://localhost:8080/",
          "height": 202
        }
      },
      "source": [
        "#checking for successful deletion of column\n",
        "ccc.head()"
      ],
      "execution_count": 11,
      "outputs": [
        {
          "output_type": "execute_result",
          "data": {
            "text/html": [
              "<div>\n",
              "<style scoped>\n",
              "    .dataframe tbody tr th:only-of-type {\n",
              "        vertical-align: middle;\n",
              "    }\n",
              "\n",
              "    .dataframe tbody tr th {\n",
              "        vertical-align: top;\n",
              "    }\n",
              "\n",
              "    .dataframe thead th {\n",
              "        text-align: right;\n",
              "    }\n",
              "</style>\n",
              "<table border=\"1\" class=\"dataframe\">\n",
              "  <thead>\n",
              "    <tr style=\"text-align: right;\">\n",
              "      <th></th>\n",
              "      <th>INCIDENT_TYPE</th>\n",
              "      <th>MONTH</th>\n",
              "      <th>YEAR</th>\n",
              "      <th>FILE_NUMBER</th>\n",
              "    </tr>\n",
              "  </thead>\n",
              "  <tbody>\n",
              "    <tr>\n",
              "      <th>0</th>\n",
              "      <td>Fatal/Injury Collision</td>\n",
              "      <td>1</td>\n",
              "      <td>2017</td>\n",
              "      <td>17-51</td>\n",
              "    </tr>\n",
              "    <tr>\n",
              "      <th>1</th>\n",
              "      <td>Fatal/Injury Collision</td>\n",
              "      <td>1</td>\n",
              "      <td>2017</td>\n",
              "      <td>17-139</td>\n",
              "    </tr>\n",
              "    <tr>\n",
              "      <th>2</th>\n",
              "      <td>Fatal/Injury Collision</td>\n",
              "      <td>1</td>\n",
              "      <td>2017</td>\n",
              "      <td>17-141</td>\n",
              "    </tr>\n",
              "    <tr>\n",
              "      <th>3</th>\n",
              "      <td>Fatal/Injury Collision</td>\n",
              "      <td>1</td>\n",
              "      <td>2017</td>\n",
              "      <td>17-151</td>\n",
              "    </tr>\n",
              "    <tr>\n",
              "      <th>4</th>\n",
              "      <td>Fatal/Injury Collision</td>\n",
              "      <td>1</td>\n",
              "      <td>2017</td>\n",
              "      <td>17-151</td>\n",
              "    </tr>\n",
              "  </tbody>\n",
              "</table>\n",
              "</div>"
            ],
            "text/plain": [
              "            INCIDENT_TYPE  MONTH  YEAR FILE_NUMBER\n",
              "0  Fatal/Injury Collision      1  2017       17-51\n",
              "1  Fatal/Injury Collision      1  2017      17-139\n",
              "2  Fatal/Injury Collision      1  2017      17-141\n",
              "3  Fatal/Injury Collision      1  2017      17-151\n",
              "4  Fatal/Injury Collision      1  2017      17-151"
            ]
          },
          "metadata": {
            "tags": []
          },
          "execution_count": 11
        }
      ]
    },
    {
      "cell_type": "code",
      "metadata": {
        "id": "irCx5krYw6WJ"
      },
      "source": [
        "#deleting column HUNDRED_BLOCK\n",
        "del ccc['FILE_NUMBER']"
      ],
      "execution_count": 12,
      "outputs": []
    },
    {
      "cell_type": "code",
      "metadata": {
        "id": "auJbIx4uxmiZ",
        "outputId": "c9d4a2a8-300a-4753-f581-22581e70c646",
        "colab": {
          "base_uri": "https://localhost:8080/",
          "height": 202
        }
      },
      "source": [
        "#checking for successful deletion of column\n",
        "ccc.head()"
      ],
      "execution_count": 13,
      "outputs": [
        {
          "output_type": "execute_result",
          "data": {
            "text/html": [
              "<div>\n",
              "<style scoped>\n",
              "    .dataframe tbody tr th:only-of-type {\n",
              "        vertical-align: middle;\n",
              "    }\n",
              "\n",
              "    .dataframe tbody tr th {\n",
              "        vertical-align: top;\n",
              "    }\n",
              "\n",
              "    .dataframe thead th {\n",
              "        text-align: right;\n",
              "    }\n",
              "</style>\n",
              "<table border=\"1\" class=\"dataframe\">\n",
              "  <thead>\n",
              "    <tr style=\"text-align: right;\">\n",
              "      <th></th>\n",
              "      <th>INCIDENT_TYPE</th>\n",
              "      <th>MONTH</th>\n",
              "      <th>YEAR</th>\n",
              "    </tr>\n",
              "  </thead>\n",
              "  <tbody>\n",
              "    <tr>\n",
              "      <th>0</th>\n",
              "      <td>Fatal/Injury Collision</td>\n",
              "      <td>1</td>\n",
              "      <td>2017</td>\n",
              "    </tr>\n",
              "    <tr>\n",
              "      <th>1</th>\n",
              "      <td>Fatal/Injury Collision</td>\n",
              "      <td>1</td>\n",
              "      <td>2017</td>\n",
              "    </tr>\n",
              "    <tr>\n",
              "      <th>2</th>\n",
              "      <td>Fatal/Injury Collision</td>\n",
              "      <td>1</td>\n",
              "      <td>2017</td>\n",
              "    </tr>\n",
              "    <tr>\n",
              "      <th>3</th>\n",
              "      <td>Fatal/Injury Collision</td>\n",
              "      <td>1</td>\n",
              "      <td>2017</td>\n",
              "    </tr>\n",
              "    <tr>\n",
              "      <th>4</th>\n",
              "      <td>Fatal/Injury Collision</td>\n",
              "      <td>1</td>\n",
              "      <td>2017</td>\n",
              "    </tr>\n",
              "  </tbody>\n",
              "</table>\n",
              "</div>"
            ],
            "text/plain": [
              "            INCIDENT_TYPE  MONTH  YEAR\n",
              "0  Fatal/Injury Collision      1  2017\n",
              "1  Fatal/Injury Collision      1  2017\n",
              "2  Fatal/Injury Collision      1  2017\n",
              "3  Fatal/Injury Collision      1  2017\n",
              "4  Fatal/Injury Collision      1  2017"
            ]
          },
          "metadata": {
            "tags": []
          },
          "execution_count": 13
        }
      ]
    },
    {
      "cell_type": "markdown",
      "metadata": {
        "id": "JEiPa2IRo3wH"
      },
      "source": [
        "# Deeper EDA\n",
        "In this section, we will use visualizations to help understand our data set"
      ]
    },
    {
      "cell_type": "code",
      "metadata": {
        "id": "CK3UC3VlbBql",
        "outputId": "a096a9e0-7842-4880-c6d7-660dfcc7f019",
        "colab": {
          "base_uri": "https://localhost:8080/",
          "height": 202
        }
      },
      "source": [
        "ccc.head()"
      ],
      "execution_count": 14,
      "outputs": [
        {
          "output_type": "execute_result",
          "data": {
            "text/html": [
              "<div>\n",
              "<style scoped>\n",
              "    .dataframe tbody tr th:only-of-type {\n",
              "        vertical-align: middle;\n",
              "    }\n",
              "\n",
              "    .dataframe tbody tr th {\n",
              "        vertical-align: top;\n",
              "    }\n",
              "\n",
              "    .dataframe thead th {\n",
              "        text-align: right;\n",
              "    }\n",
              "</style>\n",
              "<table border=\"1\" class=\"dataframe\">\n",
              "  <thead>\n",
              "    <tr style=\"text-align: right;\">\n",
              "      <th></th>\n",
              "      <th>INCIDENT_TYPE</th>\n",
              "      <th>MONTH</th>\n",
              "      <th>YEAR</th>\n",
              "    </tr>\n",
              "  </thead>\n",
              "  <tbody>\n",
              "    <tr>\n",
              "      <th>0</th>\n",
              "      <td>Fatal/Injury Collision</td>\n",
              "      <td>1</td>\n",
              "      <td>2017</td>\n",
              "    </tr>\n",
              "    <tr>\n",
              "      <th>1</th>\n",
              "      <td>Fatal/Injury Collision</td>\n",
              "      <td>1</td>\n",
              "      <td>2017</td>\n",
              "    </tr>\n",
              "    <tr>\n",
              "      <th>2</th>\n",
              "      <td>Fatal/Injury Collision</td>\n",
              "      <td>1</td>\n",
              "      <td>2017</td>\n",
              "    </tr>\n",
              "    <tr>\n",
              "      <th>3</th>\n",
              "      <td>Fatal/Injury Collision</td>\n",
              "      <td>1</td>\n",
              "      <td>2017</td>\n",
              "    </tr>\n",
              "    <tr>\n",
              "      <th>4</th>\n",
              "      <td>Fatal/Injury Collision</td>\n",
              "      <td>1</td>\n",
              "      <td>2017</td>\n",
              "    </tr>\n",
              "  </tbody>\n",
              "</table>\n",
              "</div>"
            ],
            "text/plain": [
              "            INCIDENT_TYPE  MONTH  YEAR\n",
              "0  Fatal/Injury Collision      1  2017\n",
              "1  Fatal/Injury Collision      1  2017\n",
              "2  Fatal/Injury Collision      1  2017\n",
              "3  Fatal/Injury Collision      1  2017\n",
              "4  Fatal/Injury Collision      1  2017"
            ]
          },
          "metadata": {
            "tags": []
          },
          "execution_count": 14
        }
      ]
    },
    {
      "cell_type": "code",
      "metadata": {
        "id": "c0WT4Q_-1cWF",
        "outputId": "11e11658-9a06-4f54-f465-0b8c72ef2f44",
        "colab": {
          "base_uri": "https://localhost:8080/",
          "height": 436
        }
      },
      "source": [
        "#Which incident type occured most in the past three years (2017, 2018, 2019) in Surrey\n",
        "plt.rcParams[\"figure.figsize\"] = (20,7)\n",
        "sns.set_theme(style=\"whitegrid\")\n",
        "ax = sns.countplot(x=\"INCIDENT_TYPE\", data=ccc)"
      ],
      "execution_count": 31,
      "outputs": [
        {
          "output_type": "display_data",
          "data": {
            "image/png": "[encoded data removed]",
            "text/plain": [
              "<Figure size 1440x504 with 1 Axes>"
            ]
          },
          "metadata": {
            "tags": []
          }
        }
      ]
    },
    {
      "cell_type": "code",
      "metadata": {
        "id": "uwXvfSFtb8WV",
        "outputId": "e7071436-1331-4318-a530-255f78f58d05",
        "colab": {
          "base_uri": "https://localhost:8080/",
          "height": 465
        }
      },
      "source": [
        "#How does each incident type in Surrey distributed over the three years (2017, 2018, 2019)\n",
        "plt.rcParams[\"figure.figsize\"] = (15,7)\n",
        "sns.histplot(data=ccc['INCIDENT_TYPE'], y=ccc['INCIDENT_TYPE'], hue=ccc['INCIDENT_TYPE'])"
      ],
      "execution_count": 35,
      "outputs": [
        {
          "output_type": "execute_result",
          "data": {
            "text/plain": [
              "<matplotlib.axes._subplots.AxesSubplot at 0x7f69ce8d8fd0>"
            ]
          },
          "metadata": {
            "tags": []
          },
          "execution_count": 35
        },
        {
          "output_type": "display_data",
          "data": {
            "image/png": "[encoded data removed]",
            "text/plain": [
              "<Figure size 1080x504 with 1 Axes>"
            ]
          },
          "metadata": {
            "tags": []
          }
        }
      ]
    },
    {
      "cell_type": "markdown",
      "metadata": {
        "id": "9YbTeCZqzscF"
      },
      "source": [
        "For the past three years (2017, 2018, 2019):\n",
        "*   Theft from Motor Vehicle was the most frequent incident type with Fatal/Injury collision a close second\n",
        "*   Gaffiti was the least incident type \n"
      ]
    },
    {
      "cell_type": "code",
      "metadata": {
        "id": "lb1BVO4H2H4U",
        "outputId": "2e0951f1-bbc0-4769-9e58-b28266841da9",
        "colab": {
          "base_uri": "https://localhost:8080/",
          "height": 436
        }
      },
      "source": [
        "#Frequency of each incident by year using a countplot\n",
        "plt.rcParams[\"figure.figsize\"] = (20,7)\n",
        "sns.set_theme(style=\"whitegrid\")\n",
        "ax = sns.countplot(x=\"INCIDENT_TYPE\", hue='YEAR', data=ccc)"
      ],
      "execution_count": 33,
      "outputs": [
        {
          "output_type": "display_data",
          "data": {
            "image/png": "[encoded data removed]",
            "text/plain": [
              "<Figure size 1440x504 with 1 Axes>"
            ]
          },
          "metadata": {
            "tags": []
          }
        }
      ]
    },
    {
      "cell_type": "markdown",
      "metadata": {
        "id": "TcoqERUv3beJ"
      },
      "source": [
        "*   The count plot shows a significant decrease in crime and incidentes in Surrey from 2017 -2019\n",
        "*   2017-2018 had the largest drop in crime and incidents"
      ]
    },
    {
      "cell_type": "code",
      "metadata": {
        "id": "FqzKe_6Pgoqq",
        "outputId": "c3b57cf2-c603-41bf-de28-adfc268229e9",
        "colab": {
          "base_uri": "https://localhost:8080/",
          "height": 708
        }
      },
      "source": [
        "#How is the incident type in Surrey distributed by month in Surrey\n",
        "plt.rcParams[\"figure.figsize\"] = (20,12)\n",
        "sns.histplot(data=ccc['MONTH'], x=ccc['MONTH'], hue=ccc['INCIDENT_TYPE'], multiple='dodge',shrink=1.5);"
      ],
      "execution_count": null,
      "outputs": [
        {
          "output_type": "display_data",
          "data": {
            "image/png": "[encoded data removed]",
            "text/plain": [
              "<Figure size 1440x864 with 1 Axes>"
            ]
          },
          "metadata": {
            "tags": [],
            "needs_background": "light"
          }
        }
      ]
    },
    {
      "cell_type": "markdown",
      "metadata": {
        "id": "SJPUERfR0fGK"
      },
      "source": [
        "In 2019:\n",
        "\n",
        "*   Theft from Motor Vehicle and Fatal/Injury Collison incidents were relatively high and even distrubuted\n",
        "*   Graffiti was low and incidentes evenly distributed\n",
        "*   December hardly had any Shoplifting incidents\n",
        "*   All incidents were evenly distributed over the year\n",
        "\n",
        "\n",
        "\n"
      ]
    }
  ]
}